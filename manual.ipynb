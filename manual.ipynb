{
  "nbformat": 4,
  "nbformat_minor": 0,
  "metadata": {
    "colab": {
      "provenance": []
    },
    "kernelspec": {
      "name": "python3",
      "display_name": "Python 3"
    },
    "language_info": {
      "name": "python"
    }
  },
  "cells": [
    {
      "cell_type": "code",
      "execution_count": 2,
      "metadata": {
        "colab": {
          "base_uri": "https://localhost:8080/"
        },
        "id": "cp0_f6EyPUg6",
        "outputId": "cf8eca71-f65f-4e74-fdfd-c166be778a1b"
      },
      "outputs": [
        {
          "output_type": "stream",
          "name": "stdout",
          "text": [
            "Random Forest Accuracy: 0.5766\n",
            "Decision Tree Accuracy: 0.4485\n",
            "Support Vector Machine (SVM) Accuracy: 0.1322\n",
            "Logistic Regression Accuracy: 0.1140\n"
          ]
        },
        {
          "output_type": "stream",
          "name": "stderr",
          "text": [
            "/usr/local/lib/python3.10/dist-packages/sklearn/linear_model/_logistic.py:458: ConvergenceWarning: lbfgs failed to converge (status=1):\n",
            "STOP: TOTAL NO. of ITERATIONS REACHED LIMIT.\n",
            "\n",
            "Increase the number of iterations (max_iter) or scale the data as shown in:\n",
            "    https://scikit-learn.org/stable/modules/preprocessing.html\n",
            "Please also refer to the documentation for alternative solver options:\n",
            "    https://scikit-learn.org/stable/modules/linear_model.html#logistic-regression\n",
            "  n_iter_i = _check_optimize_result(\n"
          ]
        }
      ],
      "source": [
        "import pandas as pd\n",
        "from sklearn.model_selection import train_test_split\n",
        "from sklearn.ensemble import RandomForestClassifier\n",
        "from sklearn.tree import DecisionTreeClassifier\n",
        "from sklearn.svm import SVC\n",
        "from sklearn.linear_model import LogisticRegression\n",
        "from sklearn.metrics import accuracy_score\n",
        "\n",
        "df = pd.read_csv(\"myfifa.csv\")\n",
        "X = df.drop(['Position'], axis=1)\n",
        "y = df['Position']\n",
        "\n",
        "X_train, X_test, y_train, y_test = train_test_split(X, y, test_size=0.2, random_state=42)\n",
        "\n",
        "# Function to check the score of each model\n",
        "def check_model_score(model, model_name):\n",
        "    model.fit(X_train, y_train)\n",
        "    y_pred = model.predict(X_test)\n",
        "    accuracy = accuracy_score(y_test, y_pred)\n",
        "    print(f\"{model_name} Accuracy: {accuracy:.4f}\")\n",
        "\n",
        "# Create and evaluate models\n",
        "rf_classifier = RandomForestClassifier()\n",
        "check_model_score(rf_classifier, \"Random Forest\")\n",
        "\n",
        "dt_classifier = DecisionTreeClassifier()\n",
        "check_model_score(dt_classifier, \"Decision Tree\")\n",
        "\n",
        "svm_classifier = SVC()\n",
        "check_model_score(svm_classifier, \"Support Vector Machine (SVM)\")\n",
        "\n",
        "logreg_classifier = LogisticRegression()\n",
        "check_model_score(logreg_classifier, \"Logistic Regression\")\n",
        "\n",
        "\n"
      ]
    }
  ]
}